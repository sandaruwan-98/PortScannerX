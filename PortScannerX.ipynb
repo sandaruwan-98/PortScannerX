{
  "nbformat": 4,
  "nbformat_minor": 0,
  "metadata": {
    "colab": {
      "provenance": []
    },
    "kernelspec": {
      "name": "python3",
      "display_name": "Python 3"
    },
    "language_info": {
      "name": "python"
    }
  },
  "cells": [
    {
      "cell_type": "code",
      "execution_count": 1,
      "metadata": {
        "colab": {
          "base_uri": "https://localhost:8080/"
        },
        "id": "uriSSFwhEB_f",
        "outputId": "37b656fa-a6f2-4a57-cedc-adb947d8ed06"
      },
      "outputs": [
        {
          "output_type": "stream",
          "name": "stdout",
          "text": [
            "Enter the target IP address: 103.247.48.92\n",
            "Scanning all ports on 103.247.48.92...\n",
            "No open ports found.\n",
            "Scan complete.\n"
          ]
        }
      ],
      "source": [
        "import socket\n",
        "import threading\n",
        "\n",
        "# Function to scan a single port\n",
        "def scan_port(ip, port, open_ports):\n",
        "    try:\n",
        "        sock = socket.socket(socket.AF_INET, socket.SOCK_STREAM)\n",
        "        sock.settimeout(1)  # Set a timeout for the connection attempt\n",
        "        result = sock.connect_ex((ip, port))\n",
        "        if result == 0:\n",
        "            open_ports.append(port)\n",
        "        sock.close()\n",
        "    except Exception as e:\n",
        "        print(f\"Error scanning port {port}: {e}\")\n",
        "\n",
        "# Function to scan a range of ports\n",
        "def scan_ports(ip, start_port, end_port):\n",
        "    threads = []\n",
        "    open_ports = []\n",
        "    for port in range(start_port, end_port + 1):\n",
        "        thread = threading.Thread(target=scan_port, args=(ip, port, open_ports))\n",
        "        threads.append(thread)\n",
        "        thread.start()\n",
        "\n",
        "        # Limit the number of active threads to avoid overwhelming the system\n",
        "        if len(threads) >= 1000:  # Adjust based on your system's capabilities\n",
        "            for thread in threads:\n",
        "                thread.join()\n",
        "            threads = []\n",
        "\n",
        "    for thread in threads:\n",
        "        thread.join()\n",
        "\n",
        "    return open_ports\n",
        "\n",
        "if __name__ == \"__main__\":\n",
        "    target_ip = input(\"Enter the target IP address: \")\n",
        "\n",
        "    print(f\"Scanning all ports on {target_ip}...\")\n",
        "    open_ports = scan_ports(target_ip, 1, 65535)\n",
        "\n",
        "    if open_ports:\n",
        "        print(\"Open ports:\")\n",
        "        for port in open_ports:\n",
        "            print(port)\n",
        "    else:\n",
        "        print(\"No open ports found.\")\n",
        "    print(\"Scan complete.\")\n"
      ]
    }
  ]
}